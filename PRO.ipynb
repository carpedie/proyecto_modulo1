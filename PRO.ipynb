{
 "cells": [
  {
   "cell_type": "markdown",
   "metadata": {},
   "source": [
    "# Objetivos"
   ]
  },
  {
   "cell_type": "markdown",
   "metadata": {},
   "source": [
    "A lo largo de este proyecto buscaremos máximizar la utilidad de una compañia de Helados. "
   ]
  },
  {
   "cell_type": "markdown",
   "metadata": {},
   "source": [
    "## Modelo"
   ]
  },
  {
   "cell_type": "markdown",
   "metadata": {},
   "source": [
    "Nuestra empresa de origen valenciano afincada en Sevilla desde la década de los años 70, se dedica a la elaboración de helados artesanos. Después de estos años de grandes progresos en su negocio, desea abrir mercado para poder enfrentarse a la situación actual.\n",
    "Esta ampliación tiene como objetivo introducir sus productos en el sector de la hostelería, mediante la propuesta de una gama de helados que podemos considerar “Gourmet”. A continuación detallaremos dicha gama."
   ]
  },
  {
   "cell_type": "markdown",
   "metadata": {},
   "source": [
    "Creada por el gran Filippo Zampieron está compuesta por cinco tipos de polos artesanos: \n",
    "1. Polos de menta\n",
    "2. Polos de chocolate\n",
    "3. Polos de yogurt y melocotón \n",
    "4. Polos de almendras  \n",
    "5. Polos “Fiordilatte”.\n",
    "\n",
    "Aunque la elaboración de todos ellos difieren en diversos aspectos, ya sea en la composición de la base, cobertura o en las proporciones de cada componente, hay un producto común en todos ellos “Jarabe Base” ya que sin este no sería posible la fabricación de la base de los polos."
   ]
  },
  {
   "cell_type": "markdown",
   "metadata": {},
   "source": [
    "Este Jarabe, está compuesto por: \n",
    "* Agua: 655 gr\n",
    "* Azúcar de caña : 180 gr\n",
    "* Dextosa: 35 gr\n",
    "* Glucosa: 130 gr\n",
    "    \n",
    "A continuación detallamos el proceso de elaboración y las cantidades utilizadas\n",
    "para la fabricación de un kilo de cada tipo de polos.\n"
   ]
  },
  {
   "cell_type": "markdown",
   "metadata": {},
   "source": [
    "## Polos de menta\n",
    "La fabricación de este producto comienza con la elaboración de la base. Para ello, como se puede apreciar en la fotografía, se utiliza $550 gr$ del jarabe, seguido de unas gotas de esencia de menta ($10 gotas$) y posteriormente añadiendo unos $450 gr$ de leche fresca entera.\n",
    "Una vez que se ha mezclado la base y se ha dejado reposar para conseguir una textura idónea se procede a la elaboración de su cobertura.\n",
    "Está compuesta por unos $800 gr$ chocolate y $200 gr$ de manteca de cacao."
   ]
  },
  {
   "cell_type": "markdown",
   "metadata": {},
   "source": [
    "## Polos de Chocolate\n",
    "La base de estos está compuesta por: $500 gr$ de jarabe, $440 gr$ de leche entera fresca unos $25 gr$ de azúcar invertido (una combinación de glucosa y fructosa) y por último, 35 gr de cacao.\n",
    "La cobertura al igual que el producto anterior está compuesta por: $800 gr$ de chocolate y $200 gr$ de manteca de cacao."
   ]
  },
  {
   "cell_type": "markdown",
   "metadata": {},
   "source": [
    "## Polos de Yogurt y Melocotón\n",
    "Con una base compuesta por: $430 gr$ de jarabe, $300 gr$ de yogurt desnatado, $20 gr$ de azúcar invertido y $250 gr$ de melocotón batido.\n",
    "Su cobertura es una dulce combinación de $500 gr$ de chocolate y $500 gr$ de nata."
   ]
  },
  {
   "cell_type": "markdown",
   "metadata": {},
   "source": [
    "## Polos de almendra\n",
    "Base elaborada por: $400 gr$ de jarabe, $495 gr$ de leche fresca entera, $25 gr$ de azúcar invertido.\n",
    "La cobertura está elaborada por $800 gr$ de chocolate, $200 gr$ de manteca de cacao y $80 gr$ de pasta de almendras."
   ]
  },
  {
   "cell_type": "markdown",
   "metadata": {},
   "source": [
    "## Polos “Fiordilatte”\n",
    "Su elaboración comienza con la base compuesta por $510 gr$ de jarabe, $510 gr$ de leche fresca entera, $250 gr$ de nata, $200 gr$ de azúcar invertido.\n",
    "Una vez que la base se haya mezclado y adoptado la textura deseada, se le inyecta un relleno compuesto por: $550 gr$ de nata y $500 gr$ de chocolate.\n",
    "Finalmente, esperado el tiempo necesario para que el relleno se adapte a la base, se le añade una cobertura de $800 gr$ de chocolate y $200 gr$ de manteca de cacao."
   ]
  },
  {
   "cell_type": "markdown",
   "metadata": {},
   "source": [
    "A su vez se ha realizado un estudio de mercado y de producción, que nos proporcionan los siguientes datos:\n",
    "\n",
    "Beneficio esperado por cada kilo de los diferentes polos:\n",
    "\n",
    "* Polos de menta: $23$ u.m. el kilo\n",
    "* Polos de chocolate: $22.5$ u.m. el kilo\n",
    "* Polos de yogurt y melocotón: $21$ u.m. el kilo  \n",
    "* Polos de almendras: $20.5$ u.m. el kilo\n",
    "* Polos “ Fiordilatte”: $21$ u.m. el kilo\n",
    "\n",
    "Disponibilidad semanal de las siguientes materias primas :\n",
    "\n",
    "* Jarabe Base: $20,5$ kg\n",
    "* Leche Fresca entera: $13$ kg\n",
    "* Yogurt desnatado: $5$ kg\n",
    "* Nata: $8,5$ kg\n",
    "* Azúcar invertido: $1,3$ kg\n",
    "* Chocolate: $27$ kg\n",
    "* Manteca de cacao: $5$ kg\n",
    "* Esencia de menta: $2$ frasco de $90 ml$, cada frasco proporciona $75$ gotas.\n",
    "* Cacao: $0,28$ kg ( $2$ bolsas de $140$ gr cada uno)\n",
    "* Melocotón batido: $4$ kg\n",
    "* Pasta de almendras: $0,8$ kg ( $2$ bolsas de $400$ gr cada una)\n",
    "\n",
    "\n",
    "\n"
   ]
  },
  {
   "cell_type": "markdown",
   "metadata": {},
   "source": [
    "Demanda esperada semanalmente para cada tipo de polo:\n",
    "* Demanda de polos de menta y polos de chocolate: $10$ kilos \n",
    "* Demanda de polos de yogurt y polos de almendras: $10$ kilos \n",
    "* No se ha estimado demanda alguna de polos Fiordilatte.\n"
   ]
  },
  {
   "cell_type": "markdown",
   "metadata": {},
   "source": [
    "### Variables de decisión:\n",
    "* $x_1$ no kilos a fabricar semanalmente de polos de menta\n",
    "* $x_2$ no kilos a fabricar semanalmente de polos de chocolate\n",
    "* $x_3$ no kilos a fabricar semanalmente de polos de yogur y melocotón\n",
    "* $x_4$ no kilos a fabricar semanalmente de polos de almendras\n",
    "* $x_5$ no kilos a fabricar semanalmente de polos fiordilatte"
   ]
  },
  {
   "cell_type": "markdown",
   "metadata": {},
   "source": [
    "### Restricciones\n",
    "\n",
    "Limitación de Jarabe Base: $20,5$ kilos\n",
    "\n",
    "$550x_1+500x_2+430x_3+400x_4+510x_5+\\leq20500$\n",
    "\n",
    "Limitación de Leche Fresca Entera: 13 kilos\n",
    "\n",
    "$450x_1+440x_2+495x_4+510x_5\\leq13000$\n",
    "\n",
    "Limitación de Yogurt desnatado: $5$ kilos \n",
    "\n",
    "$300x_3\\leq5000$\n",
    "\n",
    "Limitación de Nata: $8,5$ kilos \n",
    "\n",
    "$500x_3+550x_5\\leq8500$\n",
    "\n",
    "Limitación de Azúcar invertido: $1,3$ kilo \n",
    "\n",
    "$25x_2+20x_3+25x_4+200x_5\\leq1300$\n",
    "\n",
    "Limitación de Chocolate: $27$ kilos\n",
    "\n",
    "$800x_1+800x_2+500x_3+800x_4+1300x_5\\leq27000$\n",
    "\n",
    "Limitación de Manteca de cacao: 5 kilos\n",
    "\n",
    "$200x_1+200x_2+200x_4+200x_5\\leq5000$\n",
    "\n",
    "Limitación de Esencia de menta: $150$ gotas\n",
    "\n",
    "$10x_1\\leq150$\n",
    "\n",
    "Limitación de Cacao: 0,28 kg \n",
    "\n",
    "$35x_2\\leq280$\n",
    "\n",
    "Limitación de Melocotón Batido: 4 kilos\n",
    "\n",
    "$250x_3\\leq4000$\n",
    "\n",
    "Limitación de Pasta de Almendras: 0.8 kilo\n",
    "\n",
    "$80x_4\\leq800$\n",
    "\n",
    "Restricciones con respecto a la demanda:\n",
    "\n",
    "$x_1+x_2\\geq10$ \n",
    "\n",
    "$x_3+x_4\\geq10$\n",
    "\n",
    "Función Objetivo: Beneficio\n",
    "\n",
    "$23x_1+22.5x_2+21x_3+20.5x_4+21x_5$\n"
   ]
  },
  {
   "cell_type": "markdown",
   "metadata": {},
   "source": [
    "Max  $23x_1+22.5x_2+21x_3+20.5x_4+21x_5$ \n",
    "\n",
    "s.a. \n",
    "\n",
    "$550x_1+500x_2+430x_3+400x_4+510x_5\\leq20500$\n",
    "\n",
    "$450x_1+440x_2+495x_4+510x_5\\leq13000$ \n",
    "     \n",
    "$300x_3\\leq5000$\n",
    "     \n",
    "$500x_3+550x5\\leq8500$\n",
    "     \n",
    "$25x_2+20x_3+25x_4+200x_5\\leq1300$\n",
    "     \n",
    "$800x_1+800x_2+500x_3+800x_4+1300x_5\\leq27000$\n",
    "     \n",
    "$200x_1+200x_2+200x_4+200x_5\\leq5000$\n",
    "     \n",
    "$10x_1\\leq150$\n",
    "     \n",
    "$35x_2\\leq280$\n",
    "     \n",
    "$250x_3\\leq4000$\n",
    "     \n",
    "$80x_4\\leq800$\n",
    "     \n",
    "$x_1+x_2\\geq10$ \n",
    "     \n",
    "$x_3+x_4\\geq10$ \n",
    "     \n",
    "$x_1,x_2,x_3,x_4,x_5\\geq0$"
   ]
  },
  {
   "cell_type": "code",
   "execution_count": 1,
   "metadata": {},
   "outputs": [],
   "source": [
    "import numpy as np\n",
    "import scipy.optimize as opt\n",
    "c = np.array([23, 22.5, 21, 20.5, 21])\n",
    "A = np.array([[550, 500, 430, 400, 510],\n",
    "              [450, 440, 0, 495, 510],\n",
    "              [0, 0, 300, 0, 0],\n",
    "              [0, 0, 500, 0, 550],\n",
    "              [0, 25, 20, 25, 200],\n",
    "              [800, 800, 500, 800, 1300],\n",
    "              [200, 200, 0, 200, 200],\n",
    "              [10, 0, 0, 0, 0],\n",
    "              [0, 35, 0, 0, 0],\n",
    "              [0, 0, 250, 0, 0],\n",
    "              [0, 0, 0, 80, 0],\n",
    "              [-1, -1, 0, 0, 0],\n",
    "              [0, 0, -1, -1, 0]])\n",
    "b = np.array([20500, 13000, 5000, 8500, 1300, 27000, 5000, 150, 280, 4000, 800, -10, -10])"
   ]
  },
  {
   "cell_type": "code",
   "execution_count": 2,
   "metadata": {},
   "outputs": [
    {
     "data": {
      "text/plain": [
       "     fun: 431.0\n",
       " message: 'Optimization terminated successfully.'\n",
       "     nit: 4\n",
       "   slack: array([11400.,  3630.,  5000.,  8500.,   850., 11000.,  1000.,   130.,\n",
       "           0.,  4000.,     0.,     0.,     0.])\n",
       "  status: 0\n",
       " success: True\n",
       "       x: array([ 2.,  8.,  0., 10.,  0.])"
      ]
     },
     "execution_count": 2,
     "metadata": {},
     "output_type": "execute_result"
    }
   ],
   "source": [
    "trabajadores = opt.linprog(c, A_ub=A, b_ub=b)\n",
    "trabajadores"
   ]
  },
  {
   "cell_type": "code",
   "execution_count": null,
   "metadata": {},
   "outputs": [],
   "source": []
  }
 ],
 "metadata": {
  "kernelspec": {
   "display_name": "Python 3",
   "language": "python",
   "name": "python3"
  },
  "language_info": {
   "codemirror_mode": {
    "name": "ipython",
    "version": 3
   },
   "file_extension": ".py",
   "mimetype": "text/x-python",
   "name": "python",
   "nbconvert_exporter": "python",
   "pygments_lexer": "ipython3",
   "version": "3.6.5"
  }
 },
 "nbformat": 4,
 "nbformat_minor": 2
}
