{
 "cells": [
  {
   "cell_type": "markdown",
   "metadata": {},
   "source": [
    "# Objetivos"
   ]
  },
  {
   "cell_type": "markdown",
   "metadata": {},
   "source": [
    "A lo largo de este proyecto buscaremos máximizar la utilidad de una compañia de Helados. "
   ]
  },
  {
   "cell_type": "markdown",
   "metadata": {},
   "source": [
    "## Modelo"
   ]
  },
  {
   "cell_type": "markdown",
   "metadata": {},
   "source": [
    "Nuestra empresa de origen valenciano afincada en Sevilla desde la década de los años 70, se dedica a la elaboración de helados artesanos. Después de estos años de grandes progresos en su negocio, desea abrir mercado para poder enfrentarse a la situación actual.\n",
    "Esta ampliación tiene como objetivo introducir sus productos en el sector de la hostelería, mediante la propuesta de una gama de helados que podemos considerar “Gourmet”. A continuación detallaremos dicha gama."
   ]
  },
  {
   "cell_type": "markdown",
   "metadata": {},
   "source": [
    "Creada por el gran Filippo Zampieron está compuesta por cinco tipos de polos artesanos: \n",
    "1. Polos de menta\n",
    "2. Polos de chocolate\n",
    "3. Polos de yogurt y melocotón \n",
    "4. Polos de almendras  \n",
    "5. Polos “Fiordilatte”.\n",
    "\n",
    "Aunque la elaboración de todos ellos difieren en diversos aspectos, ya sea en la composición de la base, cobertura o en las proporciones de cada componente, hay un producto común en todos ellos “Jarabe Base” ya que sin este no sería posible la fabricación de la base de los polos."
   ]
  },
  {
   "cell_type": "markdown",
   "metadata": {},
   "source": [
    "Este Jarabe, está compuesto por: \n",
    "* Agua: 655 gr\n",
    "* Azúcar de caña : 180 gr\n",
    "* Dextosa: 35 gr\n",
    "* Glucosa: 130 gr\n",
    "    \n",
    "A continuación detallamos el proceso de elaboración y las cantidades utilizadas\n",
    "para la fabricación de un kilo de cada tipo de polos.\n"
   ]
  },
  {
   "cell_type": "markdown",
   "metadata": {},
   "source": [
    "## Polos de menta\n",
    "La fabricación de este producto comienza con la elaboración de la base. Para ello, como se puede apreciar en la fotografía, se utiliza $550 gr$ del jarabe, seguido de unas gotas de esencia de menta ($10 gotas$) y posteriormente añadiendo unos $450 gr$ de leche fresca entera.\n",
    "Una vez que se ha mezclado la base y se ha dejado reposar para conseguir una textura idónea se procede a la elaboración de su cobertura.\n",
    "Está compuesta por unos $800 gr$ chocolate y $200 gr$ de manteca de cacao."
   ]
  },
  {
   "cell_type": "markdown",
   "metadata": {},
   "source": [
    "## Polos de Chocolate\n",
    "La base de estos está compuesta por: $500 gr$ de jarabe, $440 gr$ de leche entera fresca unos $25 gr$ de azúcar invertido (una combinación de glucosa y fructosa) y por último, 35 gr de cacao.\n",
    "La cobertura al igual que el producto anterior está compuesta por: $800 gr$ de chocolate y $200 gr$ de manteca de cacao."
   ]
  },
  {
   "cell_type": "code",
   "execution_count": null,
   "metadata": {},
   "outputs": [],
   "source": []
  }
 ],
 "metadata": {
  "kernelspec": {
   "display_name": "Python 3",
   "language": "python",
   "name": "python3"
  },
  "language_info": {
   "codemirror_mode": {
    "name": "ipython",
    "version": 3
   },
   "file_extension": ".py",
   "mimetype": "text/x-python",
   "name": "python",
   "nbconvert_exporter": "python",
   "pygments_lexer": "ipython3",
   "version": "3.6.5"
  }
 },
 "nbformat": 4,
 "nbformat_minor": 2
}
